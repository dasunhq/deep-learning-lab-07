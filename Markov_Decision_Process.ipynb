{
  "cells": [
    {
      "cell_type": "markdown",
      "metadata": {
        "id": "view-in-github",
        "colab_type": "text"
      },
      "source": [
        "<a href=\"https://colab.research.google.com/github/dasunhq/deep-learning-lab-07/blob/main/Markov_Decision_Process.ipynb\" target=\"_parent\"><img src=\"https://colab.research.google.com/assets/colab-badge.svg\" alt=\"Open In Colab\"/></a>"
      ]
    },
    {
      "cell_type": "markdown",
      "metadata": {
        "id": "-LMwDZHlsAvn"
      },
      "source": [
        "# Markov Decision Process (MDP)"
      ]
    },
    {
      "cell_type": "markdown",
      "metadata": {
        "id": "rK2etKh-sAvo"
      },
      "source": [
        "### Ransalu Senanayake"
      ]
    },
    {
      "cell_type": "code",
      "execution_count": 1,
      "metadata": {
        "id": "Tlr-PNcssAvp"
      },
      "outputs": [],
      "source": [
        "import copy\n",
        "import timeit\n",
        "import numpy as np\n",
        "import matplotlib.pyplot as pl\n",
        "%matplotlib inline\n",
        "from ipywidgets import interactive\n",
        "import ipywidgets as widgets"
      ]
    },
    {
      "cell_type": "markdown",
      "metadata": {
        "id": "_f6VSXlQsAvs"
      },
      "source": [
        "Create the following grid world.\n",
        "\n",
        "**States:** A 10x10 grid\n",
        "\n",
        "**Actions:** Up, Down, Left, Right\n",
        "\n",
        "**Tranistion probabilities:**\n",
        "* 0.7 in the direction of action\n",
        "* 0.1 in the three other directions\n",
        "* The robot bounces back to the same state near edges\n",
        "\n",
        "**Rewards:**\n",
        "* (7,8) has a reward +10\n",
        "* (2,7) has a reward +3\n",
        "* (4,3) has a reward -5\n",
        "* (7,3) has a reward -10\n",
        "* No reward in other states\n",
        "\n",
        "This example is based on Decision Making Under Uncertainty by M.J. Kochenderfer."
      ]
    },
    {
      "cell_type": "code",
      "execution_count": 6,
      "metadata": {
        "id": "sbT7VOEQsAvt"
      },
      "outputs": [],
      "source": [
        "#Let's define MDP paras\n",
        "def createGrid10World():\n",
        "    def xy2s(y, x):\n",
        "        x = max(x, 0)\n",
        "        y = max(y, 0)\n",
        "        x = min(x, 9)\n",
        "        y = min(y, 9)\n",
        "        out = np.ravel_multi_index(np.array([x,y]), (10,10))\n",
        "        return out\n",
        "\n",
        "    def s2xy(s):\n",
        "        x, y = np.unravel_index(s, (10,10))\n",
        "        return y, x\n",
        "\n",
        "    def gridPlot(ax, im, title='', cmap='Blues'):\n",
        "        pl.imshow(im, interpolation='none', cmap=cmap, origin='lower')\n",
        "        pl.colorbar()\n",
        "        ax.set_xticks(np.arange(0, 10, 1));\n",
        "        ax.set_yticks(np.arange(0, 10, 1));\n",
        "        ax.set_xticklabels(np.arange(0, 10, 1));\n",
        "        ax.set_yticklabels(np.arange(0, 10, 1));\n",
        "        ax.set_xticks(np.arange(-.5, 10, 1), minor=True);\n",
        "        ax.set_yticks(np.arange(-.5, 10, 1), minor=True);\n",
        "        ax.grid(which='minor', color='w', linestyle='-', linewidth=1)\n",
        "        pl.title(title);\n",
        "        return\n",
        "\n",
        "    A = ['left', 'right', 'up', 'down']\n",
        "    S = np.arange(100)\n",
        "    T = np.zeros((len(S), len(A), len(S)))\n",
        "    R = np.zeros((len(S), len(A)))\n",
        "    for s in S:\n",
        "        x, y = s2xy(s)\n",
        "        if x == 2 and y == 7:\n",
        "            R[s, :] = 3\n",
        "        elif x == 7 and y == 8:\n",
        "            R[s, :] = 10\n",
        "        else:\n",
        "            if x == 7 and y == 3:\n",
        "                R[s, :] = -10\n",
        "            elif x == 4 and y == 3:\n",
        "                R[s, :] = -5\n",
        "            elif x == 0:\n",
        "                if y == 0 or y == 9:\n",
        "                    R[s, :] = -0.2\n",
        "                else:\n",
        "                    R[s, :] = -0.1\n",
        "                R[s, 0] = -0.7\n",
        "            elif x == 9:\n",
        "                if y == 0 or y == 9:\n",
        "                    R[s, :] = -0.2\n",
        "                else:\n",
        "                    R[s, :] = -0.1\n",
        "                R[s, 1] = -0.7\n",
        "            elif y == 0:\n",
        "                if x == 0 or x == 9:\n",
        "                    R[s, :] = -0.2\n",
        "                else:\n",
        "                    R[s, :] = -0.1\n",
        "                R[s, 3] = -0.7\n",
        "            elif y == 9:\n",
        "                if x == 0 or x == 9:\n",
        "                    R[s, :] = -0.2\n",
        "                else:\n",
        "                    R[s, :] = -0.1\n",
        "                R[s, 2] = -0.7\n",
        "\n",
        "            for a in A:\n",
        "                if a == 'left':\n",
        "                    T[s, 0, xy2s(x - 1, y)] += 0.7\n",
        "                    T[s, 0, xy2s(x + 1, y)] += 0.1\n",
        "                    T[s, 0, xy2s(x, y - 1)] += 0.1\n",
        "                    T[s, 0, xy2s(x, y + 1)] += 0.1\n",
        "                elif a == 'right':\n",
        "                    T[s, 1, xy2s(x + 1, y)] += 0.7\n",
        "                    T[s, 1, xy2s(x - 1, y)] += 0.1\n",
        "                    T[s, 1, xy2s(x, y - 1)] += 0.1\n",
        "                    T[s, 1, xy2s(x, y + 1)] += 0.1\n",
        "                elif a == 'up':\n",
        "                    T[s, 2, xy2s(x, y + 1)] += 0.7\n",
        "                    T[s, 2, xy2s(x, y - 1)] += 0.1\n",
        "                    T[s, 2, xy2s(x - 1, y)] += 0.1\n",
        "                    T[s, 2, xy2s(x + 1, y)] += 0.1\n",
        "                elif a == 'down':\n",
        "                    T[s, 3, xy2s(x, y - 1)] += 0.7\n",
        "                    T[s, 3, xy2s(x, y + 1)] += 0.1\n",
        "                    T[s, 3, xy2s(x - 1, y)] += 0.1\n",
        "                    T[s, 3, xy2s(x + 1, y)] += 0.1\n",
        "\n",
        "    for a, c_x, c_y in [(0,0,0), (0,0,9),(1,9,0),(1,9,9),(2,0,9),(2,9,9),(3,0,0),(3,9,0)]:\n",
        "        R[xy2s(c_x,c_y),a] = -0.8\n",
        "\n",
        "    discount = 0.9\n",
        "\n",
        "    nextStates = {}\n",
        "    for si in range(len(S)):\n",
        "        for ai in range(len(A)):\n",
        "            nextStates[(si,ai)] = np.where((T[si, ai, :] != 0) == True)[0]\n",
        "\n",
        "    return {'S':S, 'A':A, 'T':T, 'R':R, 'discount':discount, 'nextStates':nextStates, 'gridPlot':gridPlot, 'xy2s':xy2s, 's2xy':s2xy}"
      ]
    },
    {
      "cell_type": "code",
      "execution_count": 7,
      "metadata": {
        "id": "BylriiRqsAvv"
      },
      "outputs": [],
      "source": [
        "class MDP():\n",
        "    def __init__(self):\n",
        "        pass\n",
        "\n",
        "    def inbuilt_init(self, mdp_dict):\n",
        "        self.S = mdp_dict['S']\n",
        "        self.A = mdp_dict['A']\n",
        "        self.T = mdp_dict['T']\n",
        "        self.R = mdp_dict['R']\n",
        "        self.discount = mdp_dict['discount']\n",
        "        self.nextStates = mdp_dict['nextStates']\n",
        "        self.gridPlot = mdp_dict['gridPlot']\n",
        "        self.xy2s = mdp_dict['xy2s']\n",
        "        self.s2xy = mdp_dict['s2xy']"
      ]
    },
    {
      "cell_type": "code",
      "execution_count": 8,
      "metadata": {
        "colab": {
          "base_uri": "https://localhost:8080/",
          "height": 1000
        },
        "id": "QGcCuJpasAvy",
        "outputId": "952ee7de-28c3-4fef-eb70-197920be7a32"
      },
      "outputs": [
        {
          "output_type": "display_data",
          "data": {
            "text/plain": [
              "<Figure size 300x300 with 2 Axes>"
            ],
            "image/png": "[encoded data removed]"
          },
          "metadata": {}
        },
        {
          "output_type": "display_data",
          "data": {
            "text/plain": [
              "<Figure size 1500x300 with 8 Axes>"
            ],
            "image/png": "[encoded data removed]"
          },
          "metadata": {}
        },
        {
          "output_type": "display_data",
          "data": {
            "text/plain": [
              "<Figure size 1500x300 with 8 Axes>"
            ],
            "image/png": "[encoded data removed]"
          },
          "metadata": {}
        },
        {
          "output_type": "display_data",
          "data": {
            "text/plain": [
              "<Figure size 1500x300 with 8 Axes>"
            ],
            "image/png": "[encoded data removed]"
          },
          "metadata": {}
        }
      ],
      "source": [
        "#Define the MDP\n",
        "mdp = MDP()\n",
        "mdp.inbuilt_init(mdp_dict=createGrid10World())\n",
        "\n",
        "#Plot states\n",
        "pl.figure(figsize=(3,3))\n",
        "mdp.gridPlot(ax=pl.gca(), im=mdp.S.reshape((10,10)), title='States', cmap='Greys')\n",
        "\n",
        "#Plot rewards\n",
        "pl.figure(figsize=(15,3))\n",
        "pl.suptitle('Rewards', fontsize=15)\n",
        "for a in range(4):\n",
        "    pl.subplot(1,4,a+1)\n",
        "    mdp.gridPlot(ax=pl.gca(), im=mdp.R[:,a].reshape((10,10)), title='a='+mdp.A[a], cmap='jet')\n",
        "pl.show()\n",
        "\n",
        "#Plot rewards\n",
        "pl.figure(figsize=(15,3))\n",
        "pl.suptitle('Rewards - clipped larger +ve values for visualizing the edges', fontsize=15)\n",
        "for a in range(4):\n",
        "    pl.subplot(1,4,a+1)\n",
        "    mdp.gridPlot(ax=pl.gca(), im=np.clip(mdp.R[:,a].reshape((10,10)), -1, -0.5), title='a='+mdp.A[a], cmap='jet')\n",
        "pl.show()\n",
        "\n",
        "#Plot rewards\n",
        "s0_x, s0_y = 3, 5\n",
        "s0 = mdp.xy2s(s0_x, s0_y)\n",
        "pl.figure(figsize=(15,3))\n",
        "pl.suptitle('Transition probabilities T(s1|s0=({},{}),a)'.format(s0_x, s0_y), fontsize=15)\n",
        "for a in range(4):\n",
        "    pl.subplot(1,4,a+1)\n",
        "    mdp.gridPlot(ax=pl.gca(), im=mdp.T[s0,a,:].reshape((10,10)), title='a='+mdp.A[a], cmap='Blues')\n",
        "pl.show()"
      ]
    },
    {
      "cell_type": "code",
      "execution_count": 9,
      "metadata": {
        "colab": {
          "base_uri": "https://localhost:8080/",
          "height": 610,
          "referenced_widgets": [
            "ad5ef5be3abf47dbabab1625f99b583e",
            "1401b468c5554d5f9b858d4137e3f9da",
            "2a52a9e4159c4de4bb35bf082cb8bed4",
            "f44b775d8f074bcbbde5ffee8785422c",
            "f47aa7d018f14611876dfdb47407dfb3",
            "b1c3e2b3bcb5481f8726cfa51ba07b2f",
            "7b3597b05f4f4c26bbf942dfe6572646",
            "6d278b507a5c4c9a904b59f799200391",
            "b74ba5784bb3448e87269ada27f34899",
            "65d95965f856423db61bdb9ebfe43aa2",
            "8d254aea28c04ff29cc4748e85d35210",
            "7e19f39ff2404e2395073ec1d485cfe7",
            "d5a2fb58c00748619858f3d9619cdc5c"
          ]
        },
        "id": "WSh9F6O2sAv1",
        "outputId": "79935940-3293-4d56-9472-49fdeb7a6dfa"
      },
      "outputs": [
        {
          "output_type": "display_data",
          "data": {
            "text/plain": [
              "interactive(children=(Text(value='4', description='s0_x'), Text(value='5', description='s0_y'), ToggleButtons(…"
            ],
            "application/vnd.jupyter.widget-view+json": {
              "version_major": 2,
              "version_minor": 0,
              "model_id": "ad5ef5be3abf47dbabab1625f99b583e"
            }
          },
          "metadata": {}
        }
      ],
      "source": [
        "#An interactive plot of transition probabilities\n",
        "def f(s0_x, s0_y, action):\n",
        "    a = mdp.A.index(action)\n",
        "    s0 = mdp.xy2s(int(s0_x), int(s0_y))\n",
        "    pl.figure(figsize=(6,6))\n",
        "    title = 'Transition probabilities T(s1|s0=({},{}),a={})'.format(int(s0_x),int(s0_y),action)\n",
        "    mdp.gridPlot(ax=pl.gca(), im=mdp.T[s0,a,:].reshape((10,10)), title=title, cmap='Blues')\n",
        "    pl.show()\n",
        "\n",
        "interactive_plot = interactive(f, s0_x='4', s0_y='5', action=widgets.ToggleButtons(options=['left', 'right', 'up', 'down']))\n",
        "interactive_plot"
      ]
    },
    {
      "cell_type": "code",
      "metadata": {
        "colab": {
          "base_uri": "https://localhost:8080/",
          "height": 610,
          "referenced_widgets": [
            "b6c9c0775dcf45a99d9258ade70b76e7",
            "f7b6b2f620db41d7a21cdc45f14eec09",
            "a8df13c4ea804a5da9f398ff34424ed6",
            "c798931a1bfc482f87d5d5db5fdf886e",
            "263a2deb3f4847ed8fb61c70c785acf6",
            "b29b01a358bc435988c48f1e29694940",
            "5913c8bd4751412185b342a5b958b69f",
            "517223301da542e1a11187af354d11be",
            "38b05d36585b4e7a8da7f48922e7a876",
            "9b0ae7acf87c46fd8e93ddd9cb1fa790",
            "9d7e3ecece864763a10be7c728cfe2d2",
            "140107a2b0144648a6a455bd25489fa7",
            "b26431aed121489fa479f2a9a10bd1d0"
          ]
        },
        "id": "ba76cae8",
        "outputId": "6a554bc7-ffee-4f1d-b41b-e81d56e5bf18"
      },
      "source": [
        "#Define the MDP\n",
        "mdp = MDP()\n",
        "mdp.inbuilt_init(mdp_dict=createGrid10World())\n",
        "\n",
        "#An interactive plot of transition probabilities\n",
        "def f(s0_x, s0_y, action):\n",
        "    a = mdp.A.index(action)\n",
        "    s0 = mdp.xy2s(int(s0_x), int(s0_y))\n",
        "    pl.figure(figsize=(6,6))\n",
        "    title = 'Transition probabilities T(s1|s0=({},{}),a={})'.format(int(s0_x),int(s0_y),action)\n",
        "    mdp.gridPlot(ax=pl.gca(), im=mdp.T[s0,a,:].reshape((10,10)), title=title, cmap='Blues')\n",
        "    pl.show()\n",
        "\n",
        "interactive_plot = interactive(f, s0_x='4', s0_y='5', action=widgets.ToggleButtons(options=['left', 'right', 'up', 'down']))\n",
        "interactive_plot"
      ],
      "execution_count": 10,
      "outputs": [
        {
          "output_type": "display_data",
          "data": {
            "text/plain": [
              "interactive(children=(Text(value='4', description='s0_x'), Text(value='5', description='s0_y'), ToggleButtons(…"
            ],
            "application/vnd.jupyter.widget-view+json": {
              "version_major": 2,
              "version_minor": 0,
              "model_id": "b6c9c0775dcf45a99d9258ade70b76e7"
            }
          },
          "metadata": {}
        }
      ]
    },
    {
      "cell_type": "markdown",
      "metadata": {
        "id": "CRtcTdgOsAv4"
      },
      "source": [
        "### 1. Policy evaluation\n",
        "\n",
        "Computing the utility, U.\n",
        "\n",
        "$U^\\pi_k(s) = R(s, \\pi(s)) + \\gamma \\sum_{s'} T(s' \\mid s, \\pi(s))U^\\pi_{k-1}(s')$"
      ]
    },
    {
      "cell_type": "code",
      "execution_count": 18,
      "metadata": {
        "colab": {
          "base_uri": "https://localhost:8080/",
          "height": 307
        },
        "id": "cT2yS--rsAv4",
        "outputId": "c5011547-f62f-4a50-cabe-2cd9aa7e036f"
      },
      "outputs": [
        {
          "output_type": "display_data",
          "data": {
            "text/plain": [
              "<Figure size 1500x300 with 8 Axes>"
            ],
            "image/png": "[encoded data removed]"
          },
          "metadata": {}
        }
      ],
      "source": [
        "def iterativePolicyEvaluation(mdp, policy, numIterations=10):\n",
        "    U = np.zeros(len(mdp.S))\n",
        "    U_old = copy.copy(U)\n",
        "    for t in range(numIterations):\n",
        "        U = np.copy(U_old)\n",
        "        for s in mdp.S:\n",
        "            # Ensure policy is treated correctly whether it's a scalar or an array\n",
        "            current_policy = policy[s] if isinstance(policy, np.ndarray) else policy\n",
        "            u_sa = mdp.R[s, current_policy] + mdp.discount * np.sum(mdp.T[s, current_policy, :] * U)\n",
        "            U_old[s] = u_sa\n",
        "    return U\n",
        "\n",
        "numIterations = 5\n",
        "pl.figure(figsize=(15,3))\n",
        "pl.suptitle('Utilities', fontsize=15)\n",
        "for a in range(4):\n",
        "    pl.subplot(1,4,a+1)\n",
        "    U = iterativePolicyEvaluation(mdp=mdp, policy=a, numIterations=numIterations)\n",
        "    mdp.gridPlot(ax=pl.gca(), im=U.reshape(10,10), title='a='+mdp.A[a], cmap='jet')\n",
        "pl.show()\n",
        "#print(np.round(U.reshape(10,10),3))"
      ]
    },
    {
      "cell_type": "code",
      "execution_count": 13,
      "metadata": {
        "colab": {
          "base_uri": "https://localhost:8080/",
          "height": 339,
          "referenced_widgets": [
            "446078fd0e2049e08358cf5acc137f8b",
            "818dbd7188cc4a228c04713eecaad9b3",
            "f15acd52c1524e40a727773324a5253a",
            "c3ee0f26387f4e75accd04ba3536e1c6",
            "b7aa6b0cb17c4dc2bc4e85d2eb16f4e4",
            "5c90b9b67459413ab4b38f5e1532d696",
            "e7e992dfbd4e4d09b0ee10a343553f0d",
            "7b29decabbc2459a8d625c1d70c0da3e",
            "567dc05972854d5284ac3d31b3edee5b",
            "35f7763549354f439a2c62c5115f6349"
          ]
        },
        "id": "XcMijKgbsAv7",
        "outputId": "b08b4e66-6929-4bc3-ced9-b5329d906d85"
      },
      "outputs": [
        {
          "output_type": "display_data",
          "data": {
            "text/plain": [
              "interactive(children=(ToggleButtons(description='action', options=('left', 'right', 'up', 'down'), value='left…"
            ],
            "application/vnd.jupyter.widget-view+json": {
              "version_major": 2,
              "version_minor": 0,
              "model_id": "446078fd0e2049e08358cf5acc137f8b"
            }
          },
          "metadata": {}
        }
      ],
      "source": [
        "def f(action, numIter=1):\n",
        "    U = iterativePolicyEvaluation(mdp, policy=mdp.A.index(action), numIterations=numIter)\n",
        "    pl.figure(figsize=(3,3))\n",
        "    mdp.gridPlot(ax=pl.gca(), im=U.reshape(10,10), title='Utility', cmap='jet')\n",
        "    pl.show()\n",
        "\n",
        "interactive_plot = interactive(f, action=widgets.ToggleButtons(options=['left', 'right', 'up', 'down']),\n",
        "                               numIter=widgets.IntSlider(min=0, max=20, step=1, value=0))\n",
        "interactive_plot"
      ]
    },
    {
      "cell_type": "code",
      "execution_count": 15,
      "metadata": {
        "colab": {
          "base_uri": "https://localhost:8080/",
          "height": 282
        },
        "id": "-L8qvyKAsAv9",
        "outputId": "94b874c1-6d79-474d-c16c-7b00e82ea2ea"
      },
      "outputs": [
        {
          "output_type": "display_data",
          "data": {
            "text/plain": [
              "<Figure size 300x300 with 2 Axes>"
            ],
            "image/png": "[encoded data removed]"
          },
          "metadata": {}
        }
      ],
      "source": [
        "#Value iteration\n",
        "def valueIteration(mdp, numIterations=1):\n",
        "    U = np.zeros(len(mdp.S))\n",
        "    U_old = copy.copy(U)\n",
        "    for t in range(numIterations):\n",
        "        U = np.copy(U_old)\n",
        "        for s in mdp.S:\n",
        "            # Calculate the maximum expected utility for the current state\n",
        "            max_q_value = -np.inf  # Initialize with negative infinity\n",
        "            for a in range(len(mdp.A)):\n",
        "                q_value = mdp.R[s, a] + mdp.discount * np.sum(mdp.T[s, a, :] * U)\n",
        "                max_q_value = max(max_q_value, q_value)\n",
        "            U_old[s] = max_q_value\n",
        "    return U\n",
        "\n",
        "def policyExtration(mdp, U):\n",
        "    policy = np.zeros(len(mdp.S), dtype=int)\n",
        "    for s in mdp.S:\n",
        "        # Find the action that maximizes the expected utility for the current state\n",
        "        max_q_value = -np.inf\n",
        "        best_action = -1\n",
        "        for a in range(len(mdp.A)):\n",
        "            q_value = mdp.R[s, a] + mdp.discount * np.sum(mdp.T[s, a, :] * U)\n",
        "            if q_value > max_q_value:\n",
        "                max_q_value = q_value\n",
        "                best_action = a\n",
        "        policy[s] = best_action\n",
        "    return policy\n",
        "\n",
        "U = valueIteration(mdp, numIterations=2)\n",
        "policy = policyExtration(mdp, U=U)\n",
        "pl.figure(figsize=(3,3))\n",
        "mdp.gridPlot(ax=pl.gca(), im=U.reshape(10,10), title='Utility', cmap='jet')\n",
        "for s in range(100):\n",
        "    x, y = mdp.s2xy(s)\n",
        "    if policy[s] == 0:\n",
        "        m='\\u02C2'\n",
        "    elif policy[s] == 1:\n",
        "        m='\\u02C3'\n",
        "    elif policy[s] == 2:\n",
        "        m='\\u02C4'\n",
        "    elif policy[s] == 3:\n",
        "        m='\\u02C5'\n",
        "    pl.text(x-0.5,y-1,m,color='k',size=20)\n",
        "pl.show()"
      ]
    },
    {
      "cell_type": "code",
      "execution_count": 21,
      "metadata": {
        "colab": {
          "base_uri": "https://localhost:8080/",
          "height": 329,
          "referenced_widgets": [
            "38f129fca90a46b38706afd3d571f85e",
            "0bd8426ebf73478095a9a20e7d1333ea",
            "106919ac71b5499ab4f51c66f009c9a7",
            "c9e81c35f7094d1abf9ba20b5f417645",
            "bcf6469f919c46cca55df4a885541391",
            "0178c80a3ed245cebef60ef271d0c906",
            "ecb0cb7ab65f4e57a98ffaf294b47954"
          ]
        },
        "id": "W7Hvi7YdsAv_",
        "outputId": "edcb658c-272f-470d-af98-1063242e6829"
      },
      "outputs": [
        {
          "output_type": "display_data",
          "data": {
            "text/plain": [
              "interactive(children=(IntSlider(value=0, description='numIter', max=20), Output()), _dom_classes=('widget-inte…"
            ],
            "application/vnd.jupyter.widget-view+json": {
              "version_major": 2,
              "version_minor": 0,
              "model_id": "38f129fca90a46b38706afd3d571f85e"
            }
          },
          "metadata": {}
        }
      ],
      "source": [
        "def f(numIter=1):\n",
        "    start_time = timeit.default_timer()\n",
        "    U = valueIteration(mdp, numIterations=numIter)\n",
        "    policy = policyExtration(mdp, U=U)\n",
        "    elapsed = timeit.default_timer() - start_time\n",
        "    print('time=', np.round(elapsed*1000,2))\n",
        "    pl.figure(figsize=(3,3))\n",
        "    mdp.gridPlot(ax=pl.gca(), im=U.reshape(10,10), title='Utility', cmap='jet')\n",
        "    for s in range(100):\n",
        "        x, y = mdp.s2xy(s)\n",
        "        if policy[s] == 0:\n",
        "            m='\\u02C2'\n",
        "        elif policy[s] == 1:\n",
        "            m='\\u02C3'\n",
        "        elif policy[s] == 2:\n",
        "            m='\\u02C4'\n",
        "        elif policy[s] == 3:\n",
        "            m='\\u02C5'\n",
        "        pl.text(x-0.5,y-1,m,color='k',size=20)\n",
        "    pl.show()\n",
        "\n",
        "interactive_plot = interactive(f, numIter=widgets.IntSlider(min=0, max=20, step=1, value=0))\n",
        "interactive_plot"
      ]
    },
    {
      "cell_type": "markdown",
      "metadata": {
        "id": "6il1i5CesAwB"
      },
      "source": [
        "### 2. Policy iteration\n",
        "\n",
        "Policy evaluation can be used in policy iteration:\n",
        "1. Given the current policy, compute U\n",
        "2. Using U, compute a new policy"
      ]
    },
    {
      "cell_type": "code",
      "execution_count": 19,
      "metadata": {
        "id": "5VzzQB0jsAwC"
      },
      "outputs": [],
      "source": [
        "def policyIteration(mdp, numIterations=1):\n",
        "    U_pi_k = np.zeros(len(mdp.S)) #initial values\n",
        "    pi_k = np.random.randint(low=0,high=4,size=len(mdp.S),dtype=int) #initial policy\n",
        "    pi_kp1 = copy.copy(pi_k)\n",
        "    for t in range(numIterations):\n",
        "        #Policy evaluation: compute U_pi_k\n",
        "        # This part can use the iterativePolicyEvaluation function\n",
        "        U_pi_k = iterativePolicyEvaluation(mdp, policy=pi_k, numIterations=100) # Using many iterations to converge policy evaluation\n",
        "\n",
        "        #Policy improvement\n",
        "        policy_stable = True\n",
        "        for s in mdp.S:\n",
        "            # Find the best action for state s\n",
        "            q_values = []\n",
        "            for a in range(len(mdp.A)):\n",
        "                q_value = mdp.R[s, a] + mdp.discount * np.sum(mdp.T[s, a, :] * U_pi_k)\n",
        "                q_values.append(q_value)\n",
        "            best_action = np.argmax(q_values)\n",
        "\n",
        "            # Update policy if a better action is found\n",
        "            if best_action != pi_k[s]:\n",
        "                policy_stable = False\n",
        "            pi_kp1[s] = best_action\n",
        "\n",
        "        # Check for convergence (optional, but good practice)\n",
        "        if policy_stable:\n",
        "            print(f\"Policy converged after {t+1} iterations.\")\n",
        "            break\n",
        "        pi_k = np.copy(pi_kp1) # Update the policy for the next iteration\n",
        "\n",
        "    return U_pi_k, pi_kp1\n",
        "\n",
        "U_pi_k, pi_kp1 = policyIteration(mdp, numIterations=2)"
      ]
    },
    {
      "cell_type": "code",
      "execution_count": 20,
      "metadata": {
        "colab": {
          "base_uri": "https://localhost:8080/",
          "height": 341,
          "referenced_widgets": [
            "514734bdc4d14ae18d373b9f7670d404",
            "588cc7e7c22e493db11ba7ed491cd68b",
            "0ff8c7eda29c48c5a7a7a28fd5df78fc",
            "edf2ea6bb34a4d26a4422708dca27860",
            "9b9bd3ce08ef44a9831c3ab7af2b543d",
            "d990689f98dd4c1d8b10eba6d44f8fc1",
            "83199215e9744ac593f0656588144532"
          ]
        },
        "id": "lSHVZ0CwsAwE",
        "outputId": "f59675c4-46e6-4995-d6a5-9405571bc1b5"
      },
      "outputs": [
        {
          "output_type": "display_data",
          "data": {
            "text/plain": [
              "interactive(children=(IntSlider(value=0, description='numIter', max=20), Output()), _dom_classes=('widget-inte…"
            ],
            "application/vnd.jupyter.widget-view+json": {
              "version_major": 2,
              "version_minor": 0,
              "model_id": "514734bdc4d14ae18d373b9f7670d404"
            }
          },
          "metadata": {}
        }
      ],
      "source": [
        "def f(numIter=1):\n",
        "    start_time = timeit.default_timer()\n",
        "    # code you want to evaluate\n",
        "    value, policy = policyIteration(mdp, numIterations=numIter)\n",
        "    elapsed = timeit.default_timer() - start_time\n",
        "    print('time=', np.round(elapsed*1000,2))\n",
        "    pl.figure(figsize=(3,3))\n",
        "    mdp.gridPlot(ax=pl.gca(), im=value.reshape(10,10), title='Utility', cmap='jet')\n",
        "    for s in range(100):\n",
        "        x, y = mdp.s2xy(s)\n",
        "        if policy[s] == 0:\n",
        "            m='\\u02C2'\n",
        "        elif policy[s] == 1:\n",
        "            m='\\u02C3'\n",
        "        elif policy[s] == 2:\n",
        "            m='\\u02C4'\n",
        "        elif policy[s] == 3:\n",
        "            m='\\u02C5'\n",
        "        pl.text(x-0.5,y-1,m,color='k',size=20)\n",
        "    pl.show()\n",
        "\n",
        "interactive_plot = interactive(f, numIter=widgets.IntSlider(min=0, max=20, step=1, value=0))\n",
        "interactive_plot"
      ]
    }
  ],
  "metadata": {
    "@webio": {
      "lastCommId": "21E8675012EB469B8DD225E5191E1594",
      "lastKernelId": "ec90fbfa-47cf-4656-a1ce-4ca4670e6701"
    },
    "colab": {
      "provenance": [],
      "include_colab_link": true
    },
    "kernelspec": {
      "display_name": "Python 3",
      "language": "python",
      "name": "python3"
    },
    "language_info": {
      "codemirror_mode": {
        "name": "ipython",
        "version": 3
      },
      "file_extension": ".py",
      "mimetype": "text/x-python",
      "name": "python",
      "nbconvert_exporter": "python",
      "pygments_lexer": "ipython3",
      "version": "3.8.8"
    },
    "widgets": {
      "application/vnd.jupyter.widget-state+json": {
        "ad5ef5be3abf47dbabab1625f99b583e": {
          "model_module": "@jupyter-widgets/controls",
          "model_name": "VBoxModel",
          "model_module_version": "1.5.0",
          "state": {
            "_dom_classes": [
              "widget-interact"
            ],
            "_model_module": "@jupyter-widgets/controls",
            "_model_module_version": "1.5.0",
            "_model_name": "VBoxModel",
            "_view_count": null,
            "_view_module": "@jupyter-widgets/controls",
            "_view_module_version": "1.5.0",
            "_view_name": "VBoxView",
            "box_style": "",
            "children": [
              "IPY_MODEL_1401b468c5554d5f9b858d4137e3f9da",
              "IPY_MODEL_2a52a9e4159c4de4bb35bf082cb8bed4",
              "IPY_MODEL_f44b775d8f074bcbbde5ffee8785422c",
              "IPY_MODEL_f47aa7d018f14611876dfdb47407dfb3"
            ],
            "layout": "IPY_MODEL_b1c3e2b3bcb5481f8726cfa51ba07b2f"
          }
        },
        "1401b468c5554d5f9b858d4137e3f9da": {
          "model_module": "@jupyter-widgets/controls",
          "model_name": "TextModel",
          "model_module_version": "1.5.0",
          "state": {
            "_dom_classes": [],
            "_model_module": "@jupyter-widgets/controls",
            "_model_module_version": "1.5.0",
            "_model_name": "TextModel",
            "_view_count": null,
            "_view_module": "@jupyter-widgets/controls",
            "_view_module_version": "1.5.0",
            "_view_name": "TextView",
            "continuous_update": true,
            "description": "s0_x",
            "description_tooltip": null,
            "disabled": false,
            "layout": "IPY_MODEL_7b3597b05f4f4c26bbf942dfe6572646",
            "placeholder": "​",
            "style": "IPY_MODEL_6d278b507a5c4c9a904b59f799200391",
            "value": "4"
          }
        },
        "2a52a9e4159c4de4bb35bf082cb8bed4": {
          "model_module": "@jupyter-widgets/controls",
          "model_name": "TextModel",
          "model_module_version": "1.5.0",
          "state": {
            "_dom_classes": [],
            "_model_module": "@jupyter-widgets/controls",
            "_model_module_version": "1.5.0",
            "_model_name": "TextModel",
            "_view_count": null,
            "_view_module": "@jupyter-widgets/controls",
            "_view_module_version": "1.5.0",
            "_view_name": "TextView",
            "continuous_update": true,
            "description": "s0_y",
            "description_tooltip": null,
            "disabled": false,
            "layout": "IPY_MODEL_b74ba5784bb3448e87269ada27f34899",
            "placeholder": "​",
            "style": "IPY_MODEL_65d95965f856423db61bdb9ebfe43aa2",
            "value": "5"
          }
        },
        "f44b775d8f074bcbbde5ffee8785422c": {
          "model_module": "@jupyter-widgets/controls",
          "model_name": "ToggleButtonsModel",
          "model_module_version": "1.5.0",
          "state": {
            "_dom_classes": [],
            "_model_module": "@jupyter-widgets/controls",
            "_model_module_version": "1.5.0",
            "_model_name": "ToggleButtonsModel",
            "_options_labels": [
              "left",
              "right",
              "up",
              "down"
            ],
            "_view_count": null,
            "_view_module": "@jupyter-widgets/controls",
            "_view_module_version": "1.5.0",
            "_view_name": "ToggleButtonsView",
            "button_style": "",
            "description": "action",
            "description_tooltip": null,
            "disabled": false,
            "icons": [],
            "index": 3,
            "layout": "IPY_MODEL_8d254aea28c04ff29cc4748e85d35210",
            "style": "IPY_MODEL_7e19f39ff2404e2395073ec1d485cfe7",
            "tooltips": []
          }
        },
        "f47aa7d018f14611876dfdb47407dfb3": {
          "model_module": "@jupyter-widgets/output",
          "model_name": "OutputModel",
          "model_module_version": "1.0.0",
          "state": {
            "_dom_classes": [],
            "_model_module": "@jupyter-widgets/output",
            "_model_module_version": "1.0.0",
            "_model_name": "OutputModel",
            "_view_count": null,
            "_view_module": "@jupyter-widgets/output",
            "_view_module_version": "1.0.0",
            "_view_name": "OutputView",
            "layout": "IPY_MODEL_d5a2fb58c00748619858f3d9619cdc5c",
            "msg_id": "",
            "outputs": [
              {
                "output_type": "display_data",
                "data": {
                  "text/plain": "<Figure size 600x600 with 2 Axes>",
                  "image/png": "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\n"
                },
                "metadata": {}
              }
            ]
          }
        },
        "b1c3e2b3bcb5481f8726cfa51ba07b2f": {
          "model_module": "@jupyter-widgets/base",
          "model_name": "LayoutModel",
          "model_module_version": "1.2.0",
          "state": {
            "_model_module": "@jupyter-widgets/base",
            "_model_module_version": "1.2.0",
            "_model_name": "LayoutModel",
            "_view_count": null,
            "_view_module": "@jupyter-widgets/base",
            "_view_module_version": "1.2.0",
            "_view_name": "LayoutView",
            "align_content": null,
            "align_items": null,
            "align_self": null,
            "border": null,
            "bottom": null,
            "display": null,
            "flex": null,
            "flex_flow": null,
            "grid_area": null,
            "grid_auto_columns": null,
            "grid_auto_flow": null,
            "grid_auto_rows": null,
            "grid_column": null,
            "grid_gap": null,
            "grid_row": null,
            "grid_template_areas": null,
            "grid_template_columns": null,
            "grid_template_rows": null,
            "height": null,
            "justify_content": null,
            "justify_items": null,
            "left": null,
            "margin": null,
            "max_height": null,
            "max_width": null,
            "min_height": null,
            "min_width": null,
            "object_fit": null,
            "object_position": null,
            "order": null,
            "overflow": null,
            "overflow_x": null,
            "overflow_y": null,
            "padding": null,
            "right": null,
            "top": null,
            "visibility": null,
            "width": null
          }
        },
        "7b3597b05f4f4c26bbf942dfe6572646": {
          "model_module": "@jupyter-widgets/base",
          "model_name": "LayoutModel",
          "model_module_version": "1.2.0",
          "state": {
            "_model_module": "@jupyter-widgets/base",
            "_model_module_version": "1.2.0",
            "_model_name": "LayoutModel",
            "_view_count": null,
            "_view_module": "@jupyter-widgets/base",
            "_view_module_version": "1.2.0",
            "_view_name": "LayoutView",
            "align_content": null,
            "align_items": null,
            "align_self": null,
            "border": null,
            "bottom": null,
            "display": null,
            "flex": null,
            "flex_flow": null,
            "grid_area": null,
            "grid_auto_columns": null,
            "grid_auto_flow": null,
            "grid_auto_rows": null,
            "grid_column": null,
            "grid_gap": null,
            "grid_row": null,
            "grid_template_areas": null,
            "grid_template_columns": null,
            "grid_template_rows": null,
            "height": null,
            "justify_content": null,
            "justify_items": null,
            "left": null,
            "margin": null,
            "max_height": null,
            "max_width": null,
            "min_height": null,
            "min_width": null,
            "object_fit": null,
            "object_position": null,
            "order": null,
            "overflow": null,
            "overflow_x": null,
            "overflow_y": null,
            "padding": null,
            "right": null,
            "top": null,
            "visibility": null,
            "width": null
          }
        },
        "6d278b507a5c4c9a904b59f799200391": {
          "model_module": "@jupyter-widgets/controls",
          "model_name": "DescriptionStyleModel",
          "model_module_version": "1.5.0",
          "state": {
            "_model_module": "@jupyter-widgets/controls",
            "_model_module_version": "1.5.0",
            "_model_name": "DescriptionStyleModel",
            "_view_count": null,
            "_view_module": "@jupyter-widgets/base",
            "_view_module_version": "1.2.0",
            "_view_name": "StyleView",
            "description_width": ""
          }
        },
        "b74ba5784bb3448e87269ada27f34899": {
          "model_module": "@jupyter-widgets/base",
          "model_name": "LayoutModel",
          "model_module_version": "1.2.0",
          "state": {
            "_model_module": "@jupyter-widgets/base",
            "_model_module_version": "1.2.0",
            "_model_name": "LayoutModel",
            "_view_count": null,
            "_view_module": "@jupyter-widgets/base",
            "_view_module_version": "1.2.0",
            "_view_name": "LayoutView",
            "align_content": null,
            "align_items": null,
            "align_self": null,
            "border": null,
            "bottom": null,
            "display": null,
            "flex": null,
            "flex_flow": null,
            "grid_area": null,
            "grid_auto_columns": null,
            "grid_auto_flow": null,
            "grid_auto_rows": null,
            "grid_column": null,
            "grid_gap": null,
            "grid_row": null,
            "grid_template_areas": null,
            "grid_template_columns": null,
            "grid_template_rows": null,
            "height": null,
            "justify_content": null,
            "justify_items": null,
            "left": null,
            "margin": null,
            "max_height": null,
            "max_width": null,
            "min_height": null,
            "min_width": null,
            "object_fit": null,
            "object_position": null,
            "order": null,
            "overflow": null,
            "overflow_x": null,
            "overflow_y": null,
            "padding": null,
            "right": null,
            "top": null,
            "visibility": null,
            "width": null
          }
        },
        "65d95965f856423db61bdb9ebfe43aa2": {
          "model_module": "@jupyter-widgets/controls",
          "model_name": "DescriptionStyleModel",
          "model_module_version": "1.5.0",
          "state": {
            "_model_module": "@jupyter-widgets/controls",
            "_model_module_version": "1.5.0",
            "_model_name": "DescriptionStyleModel",
            "_view_count": null,
            "_view_module": "@jupyter-widgets/base",
            "_view_module_version": "1.2.0",
            "_view_name": "StyleView",
            "description_width": ""
          }
        },
        "8d254aea28c04ff29cc4748e85d35210": {
          "model_module": "@jupyter-widgets/base",
          "model_name": "LayoutModel",
          "model_module_version": "1.2.0",
          "state": {
            "_model_module": "@jupyter-widgets/base",
            "_model_module_version": "1.2.0",
            "_model_name": "LayoutModel",
            "_view_count": null,
            "_view_module": "@jupyter-widgets/base",
            "_view_module_version": "1.2.0",
            "_view_name": "LayoutView",
            "align_content": null,
            "align_items": null,
            "align_self": null,
            "border": null,
            "bottom": null,
            "display": null,
            "flex": null,
            "flex_flow": null,
            "grid_area": null,
            "grid_auto_columns": null,
            "grid_auto_flow": null,
            "grid_auto_rows": null,
            "grid_column": null,
            "grid_gap": null,
            "grid_row": null,
            "grid_template_areas": null,
            "grid_template_columns": null,
            "grid_template_rows": null,
            "height": null,
            "justify_content": null,
            "justify_items": null,
            "left": null,
            "margin": null,
            "max_height": null,
            "max_width": null,
            "min_height": null,
            "min_width": null,
            "object_fit": null,
            "object_position": null,
            "order": null,
            "overflow": null,
            "overflow_x": null,
            "overflow_y": null,
            "padding": null,
            "right": null,
            "top": null,
            "visibility": null,
            "width": null
          }
        },
        "7e19f39ff2404e2395073ec1d485cfe7": {
          "model_module": "@jupyter-widgets/controls",
          "model_name": "ToggleButtonsStyleModel",
          "model_module_version": "1.5.0",
          "state": {
            "_model_module": "@jupyter-widgets/controls",
            "_model_module_version": "1.5.0",
            "_model_name": "ToggleButtonsStyleModel",
            "_view_count": null,
            "_view_module": "@jupyter-widgets/base",
            "_view_module_version": "1.2.0",
            "_view_name": "StyleView",
            "button_width": "",
            "description_width": "",
            "font_weight": ""
          }
        },
        "d5a2fb58c00748619858f3d9619cdc5c": {
          "model_module": "@jupyter-widgets/base",
          "model_name": "LayoutModel",
          "model_module_version": "1.2.0",
          "state": {
            "_model_module": "@jupyter-widgets/base",
            "_model_module_version": "1.2.0",
            "_model_name": "LayoutModel",
            "_view_count": null,
            "_view_module": "@jupyter-widgets/base",
            "_view_module_version": "1.2.0",
            "_view_name": "LayoutView",
            "align_content": null,
            "align_items": null,
            "align_self": null,
            "border": null,
            "bottom": null,
            "display": null,
            "flex": null,
            "flex_flow": null,
            "grid_area": null,
            "grid_auto_columns": null,
            "grid_auto_flow": null,
            "grid_auto_rows": null,
            "grid_column": null,
            "grid_gap": null,
            "grid_row": null,
            "grid_template_areas": null,
            "grid_template_columns": null,
            "grid_template_rows": null,
            "height": null,
            "justify_content": null,
            "justify_items": null,
            "left": null,
            "margin": null,
            "max_height": null,
            "max_width": null,
            "min_height": null,
            "min_width": null,
            "object_fit": null,
            "object_position": null,
            "order": null,
            "overflow": null,
            "overflow_x": null,
            "overflow_y": null,
            "padding": null,
            "right": null,
            "top": null,
            "visibility": null,
            "width": null
          }
        },
        "b6c9c0775dcf45a99d9258ade70b76e7": {
          "model_module": "@jupyter-widgets/controls",
          "model_name": "VBoxModel",
          "model_module_version": "1.5.0",
          "state": {
            "_dom_classes": [
              "widget-interact"
            ],
            "_model_module": "@jupyter-widgets/controls",
            "_model_module_version": "1.5.0",
            "_model_name": "VBoxModel",
            "_view_count": null,
            "_view_module": "@jupyter-widgets/controls",
            "_view_module_version": "1.5.0",
            "_view_name": "VBoxView",
            "box_style": "",
            "children": [
              "IPY_MODEL_f7b6b2f620db41d7a21cdc45f14eec09",
              "IPY_MODEL_a8df13c4ea804a5da9f398ff34424ed6",
              "IPY_MODEL_c798931a1bfc482f87d5d5db5fdf886e",
              "IPY_MODEL_263a2deb3f4847ed8fb61c70c785acf6"
            ],
            "layout": "IPY_MODEL_b29b01a358bc435988c48f1e29694940"
          }
        },
        "f7b6b2f620db41d7a21cdc45f14eec09": {
          "model_module": "@jupyter-widgets/controls",
          "model_name": "TextModel",
          "model_module_version": "1.5.0",
          "state": {
            "_dom_classes": [],
            "_model_module": "@jupyter-widgets/controls",
            "_model_module_version": "1.5.0",
            "_model_name": "TextModel",
            "_view_count": null,
            "_view_module": "@jupyter-widgets/controls",
            "_view_module_version": "1.5.0",
            "_view_name": "TextView",
            "continuous_update": true,
            "description": "s0_x",
            "description_tooltip": null,
            "disabled": false,
            "layout": "IPY_MODEL_5913c8bd4751412185b342a5b958b69f",
            "placeholder": "​",
            "style": "IPY_MODEL_517223301da542e1a11187af354d11be",
            "value": "5"
          }
        },
        "a8df13c4ea804a5da9f398ff34424ed6": {
          "model_module": "@jupyter-widgets/controls",
          "model_name": "TextModel",
          "model_module_version": "1.5.0",
          "state": {
            "_dom_classes": [],
            "_model_module": "@jupyter-widgets/controls",
            "_model_module_version": "1.5.0",
            "_model_name": "TextModel",
            "_view_count": null,
            "_view_module": "@jupyter-widgets/controls",
            "_view_module_version": "1.5.0",
            "_view_name": "TextView",
            "continuous_update": true,
            "description": "s0_y",
            "description_tooltip": null,
            "disabled": false,
            "layout": "IPY_MODEL_38b05d36585b4e7a8da7f48922e7a876",
            "placeholder": "​",
            "style": "IPY_MODEL_9b0ae7acf87c46fd8e93ddd9cb1fa790",
            "value": "5"
          }
        },
        "c798931a1bfc482f87d5d5db5fdf886e": {
          "model_module": "@jupyter-widgets/controls",
          "model_name": "ToggleButtonsModel",
          "model_module_version": "1.5.0",
          "state": {
            "_dom_classes": [],
            "_model_module": "@jupyter-widgets/controls",
            "_model_module_version": "1.5.0",
            "_model_name": "ToggleButtonsModel",
            "_options_labels": [
              "left",
              "right",
              "up",
              "down"
            ],
            "_view_count": null,
            "_view_module": "@jupyter-widgets/controls",
            "_view_module_version": "1.5.0",
            "_view_name": "ToggleButtonsView",
            "button_style": "",
            "description": "action",
            "description_tooltip": null,
            "disabled": false,
            "icons": [],
            "index": 0,
            "layout": "IPY_MODEL_9d7e3ecece864763a10be7c728cfe2d2",
            "style": "IPY_MODEL_140107a2b0144648a6a455bd25489fa7",
            "tooltips": []
          }
        },
        "263a2deb3f4847ed8fb61c70c785acf6": {
          "model_module": "@jupyter-widgets/output",
          "model_name": "OutputModel",
          "model_module_version": "1.0.0",
          "state": {
            "_dom_classes": [],
            "_model_module": "@jupyter-widgets/output",
            "_model_module_version": "1.0.0",
            "_model_name": "OutputModel",
            "_view_count": null,
            "_view_module": "@jupyter-widgets/output",
            "_view_module_version": "1.0.0",
            "_view_name": "OutputView",
            "layout": "IPY_MODEL_b26431aed121489fa479f2a9a10bd1d0",
            "msg_id": "",
            "outputs": [
              {
                "output_type": "display_data",
                "data": {
                  "text/plain": "<Figure size 600x600 with 2 Axes>",
                  "image/png": "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\n"
                },
                "metadata": {}
              }
            ]
          }
        },
        "b29b01a358bc435988c48f1e29694940": {
          "model_module": "@jupyter-widgets/base",
          "model_name": "LayoutModel",
          "model_module_version": "1.2.0",
          "state": {
            "_model_module": "@jupyter-widgets/base",
            "_model_module_version": "1.2.0",
            "_model_name": "LayoutModel",
            "_view_count": null,
            "_view_module": "@jupyter-widgets/base",
            "_view_module_version": "1.2.0",
            "_view_name": "LayoutView",
            "align_content": null,
            "align_items": null,
            "align_self": null,
            "border": null,
            "bottom": null,
            "display": null,
            "flex": null,
            "flex_flow": null,
            "grid_area": null,
            "grid_auto_columns": null,
            "grid_auto_flow": null,
            "grid_auto_rows": null,
            "grid_column": null,
            "grid_gap": null,
            "grid_row": null,
            "grid_template_areas": null,
            "grid_template_columns": null,
            "grid_template_rows": null,
            "height": null,
            "justify_content": null,
            "justify_items": null,
            "left": null,
            "margin": null,
            "max_height": null,
            "max_width": null,
            "min_height": null,
            "min_width": null,
            "object_fit": null,
            "object_position": null,
            "order": null,
            "overflow": null,
            "overflow_x": null,
            "overflow_y": null,
            "padding": null,
            "right": null,
            "top": null,
            "visibility": null,
            "width": null
          }
        },
        "5913c8bd4751412185b342a5b958b69f": {
          "model_module": "@jupyter-widgets/base",
          "model_name": "LayoutModel",
          "model_module_version": "1.2.0",
          "state": {
            "_model_module": "@jupyter-widgets/base",
            "_model_module_version": "1.2.0",
            "_model_name": "LayoutModel",
            "_view_count": null,
            "_view_module": "@jupyter-widgets/base",
            "_view_module_version": "1.2.0",
            "_view_name": "LayoutView",
            "align_content": null,
            "align_items": null,
            "align_self": null,
            "border": null,
            "bottom": null,
            "display": null,
            "flex": null,
            "flex_flow": null,
            "grid_area": null,
            "grid_auto_columns": null,
            "grid_auto_flow": null,
            "grid_auto_rows": null,
            "grid_column": null,
            "grid_gap": null,
            "grid_row": null,
            "grid_template_areas": null,
            "grid_template_columns": null,
            "grid_template_rows": null,
            "height": null,
            "justify_content": null,
            "justify_items": null,
            "left": null,
            "margin": null,
            "max_height": null,
            "max_width": null,
            "min_height": null,
            "min_width": null,
            "object_fit": null,
            "object_position": null,
            "order": null,
            "overflow": null,
            "overflow_x": null,
            "overflow_y": null,
            "padding": null,
            "right": null,
            "top": null,
            "visibility": null,
            "width": null
          }
        },
        "517223301da542e1a11187af354d11be": {
          "model_module": "@jupyter-widgets/controls",
          "model_name": "DescriptionStyleModel",
          "model_module_version": "1.5.0",
          "state": {
            "_model_module": "@jupyter-widgets/controls",
            "_model_module_version": "1.5.0",
            "_model_name": "DescriptionStyleModel",
            "_view_count": null,
            "_view_module": "@jupyter-widgets/base",
            "_view_module_version": "1.2.0",
            "_view_name": "StyleView",
            "description_width": ""
          }
        },
        "38b05d36585b4e7a8da7f48922e7a876": {
          "model_module": "@jupyter-widgets/base",
          "model_name": "LayoutModel",
          "model_module_version": "1.2.0",
          "state": {
            "_model_module": "@jupyter-widgets/base",
            "_model_module_version": "1.2.0",
            "_model_name": "LayoutModel",
            "_view_count": null,
            "_view_module": "@jupyter-widgets/base",
            "_view_module_version": "1.2.0",
            "_view_name": "LayoutView",
            "align_content": null,
            "align_items": null,
            "align_self": null,
            "border": null,
            "bottom": null,
            "display": null,
            "flex": null,
            "flex_flow": null,
            "grid_area": null,
            "grid_auto_columns": null,
            "grid_auto_flow": null,
            "grid_auto_rows": null,
            "grid_column": null,
            "grid_gap": null,
            "grid_row": null,
            "grid_template_areas": null,
            "grid_template_columns": null,
            "grid_template_rows": null,
            "height": null,
            "justify_content": null,
            "justify_items": null,
            "left": null,
            "margin": null,
            "max_height": null,
            "max_width": null,
            "min_height": null,
            "min_width": null,
            "object_fit": null,
            "object_position": null,
            "order": null,
            "overflow": null,
            "overflow_x": null,
            "overflow_y": null,
            "padding": null,
            "right": null,
            "top": null,
            "visibility": null,
            "width": null
          }
        },
        "9b0ae7acf87c46fd8e93ddd9cb1fa790": {
          "model_module": "@jupyter-widgets/controls",
          "model_name": "DescriptionStyleModel",
          "model_module_version": "1.5.0",
          "state": {
            "_model_module": "@jupyter-widgets/controls",
            "_model_module_version": "1.5.0",
            "_model_name": "DescriptionStyleModel",
            "_view_count": null,
            "_view_module": "@jupyter-widgets/base",
            "_view_module_version": "1.2.0",
            "_view_name": "StyleView",
            "description_width": ""
          }
        },
        "9d7e3ecece864763a10be7c728cfe2d2": {
          "model_module": "@jupyter-widgets/base",
          "model_name": "LayoutModel",
          "model_module_version": "1.2.0",
          "state": {
            "_model_module": "@jupyter-widgets/base",
            "_model_module_version": "1.2.0",
            "_model_name": "LayoutModel",
            "_view_count": null,
            "_view_module": "@jupyter-widgets/base",
            "_view_module_version": "1.2.0",
            "_view_name": "LayoutView",
            "align_content": null,
            "align_items": null,
            "align_self": null,
            "border": null,
            "bottom": null,
            "display": null,
            "flex": null,
            "flex_flow": null,
            "grid_area": null,
            "grid_auto_columns": null,
            "grid_auto_flow": null,
            "grid_auto_rows": null,
            "grid_column": null,
            "grid_gap": null,
            "grid_row": null,
            "grid_template_areas": null,
            "grid_template_columns": null,
            "grid_template_rows": null,
            "height": null,
            "justify_content": null,
            "justify_items": null,
            "left": null,
            "margin": null,
            "max_height": null,
            "max_width": null,
            "min_height": null,
            "min_width": null,
            "object_fit": null,
            "object_position": null,
            "order": null,
            "overflow": null,
            "overflow_x": null,
            "overflow_y": null,
            "padding": null,
            "right": null,
            "top": null,
            "visibility": null,
            "width": null
          }
        },
        "140107a2b0144648a6a455bd25489fa7": {
          "model_module": "@jupyter-widgets/controls",
          "model_name": "ToggleButtonsStyleModel",
          "model_module_version": "1.5.0",
          "state": {
            "_model_module": "@jupyter-widgets/controls",
            "_model_module_version": "1.5.0",
            "_model_name": "ToggleButtonsStyleModel",
            "_view_count": null,
            "_view_module": "@jupyter-widgets/base",
            "_view_module_version": "1.2.0",
            "_view_name": "StyleView",
            "button_width": "",
            "description_width": "",
            "font_weight": ""
          }
        },
        "b26431aed121489fa479f2a9a10bd1d0": {
          "model_module": "@jupyter-widgets/base",
          "model_name": "LayoutModel",
          "model_module_version": "1.2.0",
          "state": {
            "_model_module": "@jupyter-widgets/base",
            "_model_module_version": "1.2.0",
            "_model_name": "LayoutModel",
            "_view_count": null,
            "_view_module": "@jupyter-widgets/base",
            "_view_module_version": "1.2.0",
            "_view_name": "LayoutView",
            "align_content": null,
            "align_items": null,
            "align_self": null,
            "border": null,
            "bottom": null,
            "display": null,
            "flex": null,
            "flex_flow": null,
            "grid_area": null,
            "grid_auto_columns": null,
            "grid_auto_flow": null,
            "grid_auto_rows": null,
            "grid_column": null,
            "grid_gap": null,
            "grid_row": null,
            "grid_template_areas": null,
            "grid_template_columns": null,
            "grid_template_rows": null,
            "height": null,
            "justify_content": null,
            "justify_items": null,
            "left": null,
            "margin": null,
            "max_height": null,
            "max_width": null,
            "min_height": null,
            "min_width": null,
            "object_fit": null,
            "object_position": null,
            "order": null,
            "overflow": null,
            "overflow_x": null,
            "overflow_y": null,
            "padding": null,
            "right": null,
            "top": null,
            "visibility": null,
            "width": null
          }
        },
        "446078fd0e2049e08358cf5acc137f8b": {
          "model_module": "@jupyter-widgets/controls",
          "model_name": "VBoxModel",
          "model_module_version": "1.5.0",
          "state": {
            "_dom_classes": [
              "widget-interact"
            ],
            "_model_module": "@jupyter-widgets/controls",
            "_model_module_version": "1.5.0",
            "_model_name": "VBoxModel",
            "_view_count": null,
            "_view_module": "@jupyter-widgets/controls",
            "_view_module_version": "1.5.0",
            "_view_name": "VBoxView",
            "box_style": "",
            "children": [
              "IPY_MODEL_818dbd7188cc4a228c04713eecaad9b3",
              "IPY_MODEL_f15acd52c1524e40a727773324a5253a",
              "IPY_MODEL_c3ee0f26387f4e75accd04ba3536e1c6"
            ],
            "layout": "IPY_MODEL_b7aa6b0cb17c4dc2bc4e85d2eb16f4e4"
          }
        },
        "818dbd7188cc4a228c04713eecaad9b3": {
          "model_module": "@jupyter-widgets/controls",
          "model_name": "ToggleButtonsModel",
          "model_module_version": "1.5.0",
          "state": {
            "_dom_classes": [],
            "_model_module": "@jupyter-widgets/controls",
            "_model_module_version": "1.5.0",
            "_model_name": "ToggleButtonsModel",
            "_options_labels": [
              "left",
              "right",
              "up",
              "down"
            ],
            "_view_count": null,
            "_view_module": "@jupyter-widgets/controls",
            "_view_module_version": "1.5.0",
            "_view_name": "ToggleButtonsView",
            "button_style": "",
            "description": "action",
            "description_tooltip": null,
            "disabled": false,
            "icons": [],
            "index": 3,
            "layout": "IPY_MODEL_5c90b9b67459413ab4b38f5e1532d696",
            "style": "IPY_MODEL_e7e992dfbd4e4d09b0ee10a343553f0d",
            "tooltips": []
          }
        },
        "f15acd52c1524e40a727773324a5253a": {
          "model_module": "@jupyter-widgets/controls",
          "model_name": "IntSliderModel",
          "model_module_version": "1.5.0",
          "state": {
            "_dom_classes": [],
            "_model_module": "@jupyter-widgets/controls",
            "_model_module_version": "1.5.0",
            "_model_name": "IntSliderModel",
            "_view_count": null,
            "_view_module": "@jupyter-widgets/controls",
            "_view_module_version": "1.5.0",
            "_view_name": "IntSliderView",
            "continuous_update": true,
            "description": "numIter",
            "description_tooltip": null,
            "disabled": false,
            "layout": "IPY_MODEL_7b29decabbc2459a8d625c1d70c0da3e",
            "max": 20,
            "min": 0,
            "orientation": "horizontal",
            "readout": true,
            "readout_format": "d",
            "step": 1,
            "style": "IPY_MODEL_567dc05972854d5284ac3d31b3edee5b",
            "value": 10
          }
        },
        "c3ee0f26387f4e75accd04ba3536e1c6": {
          "model_module": "@jupyter-widgets/output",
          "model_name": "OutputModel",
          "model_module_version": "1.0.0",
          "state": {
            "_dom_classes": [],
            "_model_module": "@jupyter-widgets/output",
            "_model_module_version": "1.0.0",
            "_model_name": "OutputModel",
            "_view_count": null,
            "_view_module": "@jupyter-widgets/output",
            "_view_module_version": "1.0.0",
            "_view_name": "OutputView",
            "layout": "IPY_MODEL_35f7763549354f439a2c62c5115f6349",
            "msg_id": "",
            "outputs": [
              {
                "output_type": "display_data",
                "data": {
                  "text/plain": "<Figure size 300x300 with 2 Axes>",
                  "image/png": "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\n"
                },
                "metadata": {}
              }
            ]
          }
        },
        "b7aa6b0cb17c4dc2bc4e85d2eb16f4e4": {
          "model_module": "@jupyter-widgets/base",
          "model_name": "LayoutModel",
          "model_module_version": "1.2.0",
          "state": {
            "_model_module": "@jupyter-widgets/base",
            "_model_module_version": "1.2.0",
            "_model_name": "LayoutModel",
            "_view_count": null,
            "_view_module": "@jupyter-widgets/base",
            "_view_module_version": "1.2.0",
            "_view_name": "LayoutView",
            "align_content": null,
            "align_items": null,
            "align_self": null,
            "border": null,
            "bottom": null,
            "display": null,
            "flex": null,
            "flex_flow": null,
            "grid_area": null,
            "grid_auto_columns": null,
            "grid_auto_flow": null,
            "grid_auto_rows": null,
            "grid_column": null,
            "grid_gap": null,
            "grid_row": null,
            "grid_template_areas": null,
            "grid_template_columns": null,
            "grid_template_rows": null,
            "height": null,
            "justify_content": null,
            "justify_items": null,
            "left": null,
            "margin": null,
            "max_height": null,
            "max_width": null,
            "min_height": null,
            "min_width": null,
            "object_fit": null,
            "object_position": null,
            "order": null,
            "overflow": null,
            "overflow_x": null,
            "overflow_y": null,
            "padding": null,
            "right": null,
            "top": null,
            "visibility": null,
            "width": null
          }
        },
        "5c90b9b67459413ab4b38f5e1532d696": {
          "model_module": "@jupyter-widgets/base",
          "model_name": "LayoutModel",
          "model_module_version": "1.2.0",
          "state": {
            "_model_module": "@jupyter-widgets/base",
            "_model_module_version": "1.2.0",
            "_model_name": "LayoutModel",
            "_view_count": null,
            "_view_module": "@jupyter-widgets/base",
            "_view_module_version": "1.2.0",
            "_view_name": "LayoutView",
            "align_content": null,
            "align_items": null,
            "align_self": null,
            "border": null,
            "bottom": null,
            "display": null,
            "flex": null,
            "flex_flow": null,
            "grid_area": null,
            "grid_auto_columns": null,
            "grid_auto_flow": null,
            "grid_auto_rows": null,
            "grid_column": null,
            "grid_gap": null,
            "grid_row": null,
            "grid_template_areas": null,
            "grid_template_columns": null,
            "grid_template_rows": null,
            "height": null,
            "justify_content": null,
            "justify_items": null,
            "left": null,
            "margin": null,
            "max_height": null,
            "max_width": null,
            "min_height": null,
            "min_width": null,
            "object_fit": null,
            "object_position": null,
            "order": null,
            "overflow": null,
            "overflow_x": null,
            "overflow_y": null,
            "padding": null,
            "right": null,
            "top": null,
            "visibility": null,
            "width": null
          }
        },
        "e7e992dfbd4e4d09b0ee10a343553f0d": {
          "model_module": "@jupyter-widgets/controls",
          "model_name": "ToggleButtonsStyleModel",
          "model_module_version": "1.5.0",
          "state": {
            "_model_module": "@jupyter-widgets/controls",
            "_model_module_version": "1.5.0",
            "_model_name": "ToggleButtonsStyleModel",
            "_view_count": null,
            "_view_module": "@jupyter-widgets/base",
            "_view_module_version": "1.2.0",
            "_view_name": "StyleView",
            "button_width": "",
            "description_width": "",
            "font_weight": ""
          }
        },
        "7b29decabbc2459a8d625c1d70c0da3e": {
          "model_module": "@jupyter-widgets/base",
          "model_name": "LayoutModel",
          "model_module_version": "1.2.0",
          "state": {
            "_model_module": "@jupyter-widgets/base",
            "_model_module_version": "1.2.0",
            "_model_name": "LayoutModel",
            "_view_count": null,
            "_view_module": "@jupyter-widgets/base",
            "_view_module_version": "1.2.0",
            "_view_name": "LayoutView",
            "align_content": null,
            "align_items": null,
            "align_self": null,
            "border": null,
            "bottom": null,
            "display": null,
            "flex": null,
            "flex_flow": null,
            "grid_area": null,
            "grid_auto_columns": null,
            "grid_auto_flow": null,
            "grid_auto_rows": null,
            "grid_column": null,
            "grid_gap": null,
            "grid_row": null,
            "grid_template_areas": null,
            "grid_template_columns": null,
            "grid_template_rows": null,
            "height": null,
            "justify_content": null,
            "justify_items": null,
            "left": null,
            "margin": null,
            "max_height": null,
            "max_width": null,
            "min_height": null,
            "min_width": null,
            "object_fit": null,
            "object_position": null,
            "order": null,
            "overflow": null,
            "overflow_x": null,
            "overflow_y": null,
            "padding": null,
            "right": null,
            "top": null,
            "visibility": null,
            "width": null
          }
        },
        "567dc05972854d5284ac3d31b3edee5b": {
          "model_module": "@jupyter-widgets/controls",
          "model_name": "SliderStyleModel",
          "model_module_version": "1.5.0",
          "state": {
            "_model_module": "@jupyter-widgets/controls",
            "_model_module_version": "1.5.0",
            "_model_name": "SliderStyleModel",
            "_view_count": null,
            "_view_module": "@jupyter-widgets/base",
            "_view_module_version": "1.2.0",
            "_view_name": "StyleView",
            "description_width": "",
            "handle_color": null
          }
        },
        "35f7763549354f439a2c62c5115f6349": {
          "model_module": "@jupyter-widgets/base",
          "model_name": "LayoutModel",
          "model_module_version": "1.2.0",
          "state": {
            "_model_module": "@jupyter-widgets/base",
            "_model_module_version": "1.2.0",
            "_model_name": "LayoutModel",
            "_view_count": null,
            "_view_module": "@jupyter-widgets/base",
            "_view_module_version": "1.2.0",
            "_view_name": "LayoutView",
            "align_content": null,
            "align_items": null,
            "align_self": null,
            "border": null,
            "bottom": null,
            "display": null,
            "flex": null,
            "flex_flow": null,
            "grid_area": null,
            "grid_auto_columns": null,
            "grid_auto_flow": null,
            "grid_auto_rows": null,
            "grid_column": null,
            "grid_gap": null,
            "grid_row": null,
            "grid_template_areas": null,
            "grid_template_columns": null,
            "grid_template_rows": null,
            "height": null,
            "justify_content": null,
            "justify_items": null,
            "left": null,
            "margin": null,
            "max_height": null,
            "max_width": null,
            "min_height": null,
            "min_width": null,
            "object_fit": null,
            "object_position": null,
            "order": null,
            "overflow": null,
            "overflow_x": null,
            "overflow_y": null,
            "padding": null,
            "right": null,
            "top": null,
            "visibility": null,
            "width": null
          }
        },
        "38f129fca90a46b38706afd3d571f85e": {
          "model_module": "@jupyter-widgets/controls",
          "model_name": "VBoxModel",
          "model_module_version": "1.5.0",
          "state": {
            "_dom_classes": [
              "widget-interact"
            ],
            "_model_module": "@jupyter-widgets/controls",
            "_model_module_version": "1.5.0",
            "_model_name": "VBoxModel",
            "_view_count": null,
            "_view_module": "@jupyter-widgets/controls",
            "_view_module_version": "1.5.0",
            "_view_name": "VBoxView",
            "box_style": "",
            "children": [
              "IPY_MODEL_0bd8426ebf73478095a9a20e7d1333ea",
              "IPY_MODEL_106919ac71b5499ab4f51c66f009c9a7"
            ],
            "layout": "IPY_MODEL_c9e81c35f7094d1abf9ba20b5f417645"
          }
        },
        "0bd8426ebf73478095a9a20e7d1333ea": {
          "model_module": "@jupyter-widgets/controls",
          "model_name": "IntSliderModel",
          "model_module_version": "1.5.0",
          "state": {
            "_dom_classes": [],
            "_model_module": "@jupyter-widgets/controls",
            "_model_module_version": "1.5.0",
            "_model_name": "IntSliderModel",
            "_view_count": null,
            "_view_module": "@jupyter-widgets/controls",
            "_view_module_version": "1.5.0",
            "_view_name": "IntSliderView",
            "continuous_update": true,
            "description": "numIter",
            "description_tooltip": null,
            "disabled": false,
            "layout": "IPY_MODEL_bcf6469f919c46cca55df4a885541391",
            "max": 20,
            "min": 0,
            "orientation": "horizontal",
            "readout": true,
            "readout_format": "d",
            "step": 1,
            "style": "IPY_MODEL_0178c80a3ed245cebef60ef271d0c906",
            "value": 16
          }
        },
        "106919ac71b5499ab4f51c66f009c9a7": {
          "model_module": "@jupyter-widgets/output",
          "model_name": "OutputModel",
          "model_module_version": "1.0.0",
          "state": {
            "_dom_classes": [],
            "_model_module": "@jupyter-widgets/output",
            "_model_module_version": "1.0.0",
            "_model_name": "OutputModel",
            "_view_count": null,
            "_view_module": "@jupyter-widgets/output",
            "_view_module_version": "1.0.0",
            "_view_name": "OutputView",
            "layout": "IPY_MODEL_ecb0cb7ab65f4e57a98ffaf294b47954",
            "msg_id": "",
            "outputs": [
              {
                "output_type": "stream",
                "name": "stdout",
                "text": [
                  "time= 44.45\n"
                ]
              },
              {
                "output_type": "display_data",
                "data": {
                  "text/plain": "<Figure size 300x300 with 2 Axes>",
                  "image/png": "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\n"
                },
                "metadata": {}
              }
            ]
          }
        },
        "c9e81c35f7094d1abf9ba20b5f417645": {
          "model_module": "@jupyter-widgets/base",
          "model_name": "LayoutModel",
          "model_module_version": "1.2.0",
          "state": {
            "_model_module": "@jupyter-widgets/base",
            "_model_module_version": "1.2.0",
            "_model_name": "LayoutModel",
            "_view_count": null,
            "_view_module": "@jupyter-widgets/base",
            "_view_module_version": "1.2.0",
            "_view_name": "LayoutView",
            "align_content": null,
            "align_items": null,
            "align_self": null,
            "border": null,
            "bottom": null,
            "display": null,
            "flex": null,
            "flex_flow": null,
            "grid_area": null,
            "grid_auto_columns": null,
            "grid_auto_flow": null,
            "grid_auto_rows": null,
            "grid_column": null,
            "grid_gap": null,
            "grid_row": null,
            "grid_template_areas": null,
            "grid_template_columns": null,
            "grid_template_rows": null,
            "height": null,
            "justify_content": null,
            "justify_items": null,
            "left": null,
            "margin": null,
            "max_height": null,
            "max_width": null,
            "min_height": null,
            "min_width": null,
            "object_fit": null,
            "object_position": null,
            "order": null,
            "overflow": null,
            "overflow_x": null,
            "overflow_y": null,
            "padding": null,
            "right": null,
            "top": null,
            "visibility": null,
            "width": null
          }
        },
        "bcf6469f919c46cca55df4a885541391": {
          "model_module": "@jupyter-widgets/base",
          "model_name": "LayoutModel",
          "model_module_version": "1.2.0",
          "state": {
            "_model_module": "@jupyter-widgets/base",
            "_model_module_version": "1.2.0",
            "_model_name": "LayoutModel",
            "_view_count": null,
            "_view_module": "@jupyter-widgets/base",
            "_view_module_version": "1.2.0",
            "_view_name": "LayoutView",
            "align_content": null,
            "align_items": null,
            "align_self": null,
            "border": null,
            "bottom": null,
            "display": null,
            "flex": null,
            "flex_flow": null,
            "grid_area": null,
            "grid_auto_columns": null,
            "grid_auto_flow": null,
            "grid_auto_rows": null,
            "grid_column": null,
            "grid_gap": null,
            "grid_row": null,
            "grid_template_areas": null,
            "grid_template_columns": null,
            "grid_template_rows": null,
            "height": null,
            "justify_content": null,
            "justify_items": null,
            "left": null,
            "margin": null,
            "max_height": null,
            "max_width": null,
            "min_height": null,
            "min_width": null,
            "object_fit": null,
            "object_position": null,
            "order": null,
            "overflow": null,
            "overflow_x": null,
            "overflow_y": null,
            "padding": null,
            "right": null,
            "top": null,
            "visibility": null,
            "width": null
          }
        },
        "0178c80a3ed245cebef60ef271d0c906": {
          "model_module": "@jupyter-widgets/controls",
          "model_name": "SliderStyleModel",
          "model_module_version": "1.5.0",
          "state": {
            "_model_module": "@jupyter-widgets/controls",
            "_model_module_version": "1.5.0",
            "_model_name": "SliderStyleModel",
            "_view_count": null,
            "_view_module": "@jupyter-widgets/base",
            "_view_module_version": "1.2.0",
            "_view_name": "StyleView",
            "description_width": "",
            "handle_color": null
          }
        },
        "ecb0cb7ab65f4e57a98ffaf294b47954": {
          "model_module": "@jupyter-widgets/base",
          "model_name": "LayoutModel",
          "model_module_version": "1.2.0",
          "state": {
            "_model_module": "@jupyter-widgets/base",
            "_model_module_version": "1.2.0",
            "_model_name": "LayoutModel",
            "_view_count": null,
            "_view_module": "@jupyter-widgets/base",
            "_view_module_version": "1.2.0",
            "_view_name": "LayoutView",
            "align_content": null,
            "align_items": null,
            "align_self": null,
            "border": null,
            "bottom": null,
            "display": null,
            "flex": null,
            "flex_flow": null,
            "grid_area": null,
            "grid_auto_columns": null,
            "grid_auto_flow": null,
            "grid_auto_rows": null,
            "grid_column": null,
            "grid_gap": null,
            "grid_row": null,
            "grid_template_areas": null,
            "grid_template_columns": null,
            "grid_template_rows": null,
            "height": null,
            "justify_content": null,
            "justify_items": null,
            "left": null,
            "margin": null,
            "max_height": null,
            "max_width": null,
            "min_height": null,
            "min_width": null,
            "object_fit": null,
            "object_position": null,
            "order": null,
            "overflow": null,
            "overflow_x": null,
            "overflow_y": null,
            "padding": null,
            "right": null,
            "top": null,
            "visibility": null,
            "width": null
          }
        },
        "514734bdc4d14ae18d373b9f7670d404": {
          "model_module": "@jupyter-widgets/controls",
          "model_name": "VBoxModel",
          "model_module_version": "1.5.0",
          "state": {
            "_dom_classes": [
              "widget-interact"
            ],
            "_model_module": "@jupyter-widgets/controls",
            "_model_module_version": "1.5.0",
            "_model_name": "VBoxModel",
            "_view_count": null,
            "_view_module": "@jupyter-widgets/controls",
            "_view_module_version": "1.5.0",
            "_view_name": "VBoxView",
            "box_style": "",
            "children": [
              "IPY_MODEL_588cc7e7c22e493db11ba7ed491cd68b",
              "IPY_MODEL_0ff8c7eda29c48c5a7a7a28fd5df78fc"
            ],
            "layout": "IPY_MODEL_edf2ea6bb34a4d26a4422708dca27860"
          }
        },
        "588cc7e7c22e493db11ba7ed491cd68b": {
          "model_module": "@jupyter-widgets/controls",
          "model_name": "IntSliderModel",
          "model_module_version": "1.5.0",
          "state": {
            "_dom_classes": [],
            "_model_module": "@jupyter-widgets/controls",
            "_model_module_version": "1.5.0",
            "_model_name": "IntSliderModel",
            "_view_count": null,
            "_view_module": "@jupyter-widgets/controls",
            "_view_module_version": "1.5.0",
            "_view_name": "IntSliderView",
            "continuous_update": true,
            "description": "numIter",
            "description_tooltip": null,
            "disabled": false,
            "layout": "IPY_MODEL_9b9bd3ce08ef44a9831c3ab7af2b543d",
            "max": 20,
            "min": 0,
            "orientation": "horizontal",
            "readout": true,
            "readout_format": "d",
            "step": 1,
            "style": "IPY_MODEL_d990689f98dd4c1d8b10eba6d44f8fc1",
            "value": 11
          }
        },
        "0ff8c7eda29c48c5a7a7a28fd5df78fc": {
          "model_module": "@jupyter-widgets/output",
          "model_name": "OutputModel",
          "model_module_version": "1.0.0",
          "state": {
            "_dom_classes": [],
            "_model_module": "@jupyter-widgets/output",
            "_model_module_version": "1.0.0",
            "_model_name": "OutputModel",
            "_view_count": null,
            "_view_module": "@jupyter-widgets/output",
            "_view_module_version": "1.0.0",
            "_view_name": "OutputView",
            "layout": "IPY_MODEL_83199215e9744ac593f0656588144532",
            "msg_id": "",
            "outputs": [
              {
                "output_type": "stream",
                "name": "stdout",
                "text": [
                  "Policy converged after 6 iterations.\n",
                  "time= 388.31\n"
                ]
              },
              {
                "output_type": "display_data",
                "data": {
                  "text/plain": "<Figure size 300x300 with 2 Axes>",
                  "image/png": "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\n"
                },
                "metadata": {}
              }
            ]
          }
        },
        "edf2ea6bb34a4d26a4422708dca27860": {
          "model_module": "@jupyter-widgets/base",
          "model_name": "LayoutModel",
          "model_module_version": "1.2.0",
          "state": {
            "_model_module": "@jupyter-widgets/base",
            "_model_module_version": "1.2.0",
            "_model_name": "LayoutModel",
            "_view_count": null,
            "_view_module": "@jupyter-widgets/base",
            "_view_module_version": "1.2.0",
            "_view_name": "LayoutView",
            "align_content": null,
            "align_items": null,
            "align_self": null,
            "border": null,
            "bottom": null,
            "display": null,
            "flex": null,
            "flex_flow": null,
            "grid_area": null,
            "grid_auto_columns": null,
            "grid_auto_flow": null,
            "grid_auto_rows": null,
            "grid_column": null,
            "grid_gap": null,
            "grid_row": null,
            "grid_template_areas": null,
            "grid_template_columns": null,
            "grid_template_rows": null,
            "height": null,
            "justify_content": null,
            "justify_items": null,
            "left": null,
            "margin": null,
            "max_height": null,
            "max_width": null,
            "min_height": null,
            "min_width": null,
            "object_fit": null,
            "object_position": null,
            "order": null,
            "overflow": null,
            "overflow_x": null,
            "overflow_y": null,
            "padding": null,
            "right": null,
            "top": null,
            "visibility": null,
            "width": null
          }
        },
        "9b9bd3ce08ef44a9831c3ab7af2b543d": {
          "model_module": "@jupyter-widgets/base",
          "model_name": "LayoutModel",
          "model_module_version": "1.2.0",
          "state": {
            "_model_module": "@jupyter-widgets/base",
            "_model_module_version": "1.2.0",
            "_model_name": "LayoutModel",
            "_view_count": null,
            "_view_module": "@jupyter-widgets/base",
            "_view_module_version": "1.2.0",
            "_view_name": "LayoutView",
            "align_content": null,
            "align_items": null,
            "align_self": null,
            "border": null,
            "bottom": null,
            "display": null,
            "flex": null,
            "flex_flow": null,
            "grid_area": null,
            "grid_auto_columns": null,
            "grid_auto_flow": null,
            "grid_auto_rows": null,
            "grid_column": null,
            "grid_gap": null,
            "grid_row": null,
            "grid_template_areas": null,
            "grid_template_columns": null,
            "grid_template_rows": null,
            "height": null,
            "justify_content": null,
            "justify_items": null,
            "left": null,
            "margin": null,
            "max_height": null,
            "max_width": null,
            "min_height": null,
            "min_width": null,
            "object_fit": null,
            "object_position": null,
            "order": null,
            "overflow": null,
            "overflow_x": null,
            "overflow_y": null,
            "padding": null,
            "right": null,
            "top": null,
            "visibility": null,
            "width": null
          }
        },
        "d990689f98dd4c1d8b10eba6d44f8fc1": {
          "model_module": "@jupyter-widgets/controls",
          "model_name": "SliderStyleModel",
          "model_module_version": "1.5.0",
          "state": {
            "_model_module": "@jupyter-widgets/controls",
            "_model_module_version": "1.5.0",
            "_model_name": "SliderStyleModel",
            "_view_count": null,
            "_view_module": "@jupyter-widgets/base",
            "_view_module_version": "1.2.0",
            "_view_name": "StyleView",
            "description_width": "",
            "handle_color": null
          }
        },
        "83199215e9744ac593f0656588144532": {
          "model_module": "@jupyter-widgets/base",
          "model_name": "LayoutModel",
          "model_module_version": "1.2.0",
          "state": {
            "_model_module": "@jupyter-widgets/base",
            "_model_module_version": "1.2.0",
            "_model_name": "LayoutModel",
            "_view_count": null,
            "_view_module": "@jupyter-widgets/base",
            "_view_module_version": "1.2.0",
            "_view_name": "LayoutView",
            "align_content": null,
            "align_items": null,
            "align_self": null,
            "border": null,
            "bottom": null,
            "display": null,
            "flex": null,
            "flex_flow": null,
            "grid_area": null,
            "grid_auto_columns": null,
            "grid_auto_flow": null,
            "grid_auto_rows": null,
            "grid_column": null,
            "grid_gap": null,
            "grid_row": null,
            "grid_template_areas": null,
            "grid_template_columns": null,
            "grid_template_rows": null,
            "height": null,
            "justify_content": null,
            "justify_items": null,
            "left": null,
            "margin": null,
            "max_height": null,
            "max_width": null,
            "min_height": null,
            "min_width": null,
            "object_fit": null,
            "object_position": null,
            "order": null,
            "overflow": null,
            "overflow_x": null,
            "overflow_y": null,
            "padding": null,
            "right": null,
            "top": null,
            "visibility": null,
            "width": null
          }
        }
      }
    }
  },
  "nbformat": 4,
  "nbformat_minor": 0
}